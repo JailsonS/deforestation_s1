{
 "cells": [
  {
   "cell_type": "code",
   "execution_count": 1,
   "metadata": {},
   "outputs": [],
   "source": [
    "import ee, math, os, sys\n",
    "\n",
    "import geemap\n",
    "\n",
    "ee.Initialize()\n",
    "\n",
    "from utils.Masks import Masks\n",
    "from utils.Filters.CorrectionLIA import CorrectionLIA\n",
    "from utils.UtilsSAR import *\n",
    "from utils.Filters.QueganYuFilter import QueganYuFilter\n",
    "from utils.Filters.LeeFilter import LeeFilterRefined"
   ]
  },
  {
   "cell_type": "markdown",
   "metadata": {},
   "source": [
    "## Config Information\n",
    "### Static variables, assets, periods, etc"
   ]
  },
  {
   "cell_type": "code",
   "execution_count": 2,
   "metadata": {},
   "outputs": [],
   "source": [
    "# periods\n",
    "DETECTION_PERIOD = {\n",
    "    't0': '2023-01-01',\n",
    "    't1': '2023-01-29'\n",
    "}\n",
    "\n",
    "LEARNING_DATE_START =  {\n",
    "    't0': '2022-01-01',\n",
    "    't1': '2022-01-29'\n",
    "}\n",
    "\n",
    "CHECK_BREAKS = {\n",
    "    't0': '2022-06-01',\n",
    "    't1': '2022-10-30'\n",
    "}\n",
    "\n",
    "\n",
    "ASSET_DETER = 'users/jailson/inpe/deter-amz-20-08-2023-14_26_52'\n",
    "ASSET_FOREST_MASK = ''\n",
    "ASSET_DEFORESTATION_MASK = ''\n",
    "ASSET_ROI = 'projects/ee-artigo/assets/APA_TX'\n",
    "\n",
    "TARGET_BAND = 'VVg0'\n",
    "\n",
    "Map = geemap.Map()\n"
   ]
  },
  {
   "cell_type": "markdown",
   "metadata": {},
   "source": [
    "## Input Data"
   ]
  },
  {
   "cell_type": "code",
   "execution_count": 3,
   "metadata": {},
   "outputs": [],
   "source": [
    "\n",
    "alertsDETER = ee.FeatureCollection(ASSET_DETER).map(\n",
    "    lambda feat: feat\n",
    "        .set('system:time_start', feat.get('VIEW_DATE'))\n",
    "        .set('system:time_end', feat.get('VIEW_DATE'))\n",
    ")\n",
    "\n",
    "alertsDETER = alertsDETER.filterDate(CHECK_BREAKS['t0'], CHECK_BREAKS['t1'])\n",
    "\n",
    "\n",
    "roi = ee.FeatureCollection(ASSET_ROI)\n",
    "\n",
    "collectionS1 = ee.ImageCollection('COPERNICUS/S1_GRD_FLOAT')\\\n",
    "    .filterBounds(roi)\\\n",
    "    .filterDate(LEARNING_DATE_START['t0'], DETECTION_PERIOD['t1'])\\\n",
    "    .filter(ee.Filter.And(\n",
    "        ee.Filter.listContains('transmitterReceiverPolarisation', 'VV'),\n",
    "        ee.Filter.listContains('transmitterReceiverPolarisation', 'VH'),\n",
    "        ee.Filter.eq('instrumentMode', 'IW')\n",
    "    )) \\\n",
    "    .select('VV','VH','angle') \n",
    "\n"
   ]
  },
  {
   "cell_type": "markdown",
   "metadata": {},
   "source": [
    "## Check Input Data\n",
    "### Number of images, polygons, groups by metadata, etc"
   ]
  },
  {
   "cell_type": "code",
   "execution_count": 4,
   "metadata": {},
   "outputs": [],
   "source": [
    "# \n",
    "#countImages = collectionS1.limit(1).getInfo()\n",
    "#countImages"
   ]
  },
  {
   "cell_type": "markdown",
   "metadata": {},
   "source": [
    "## Helper Functions\n",
    "### Auxiliary functions "
   ]
  },
  {
   "cell_type": "code",
   "execution_count": 5,
   "metadata": {},
   "outputs": [],
   "source": [
    "def toGamma0natural(img):\n",
    "\n",
    "    azimuthEdge = getDESCCorners(img)\n",
    "    \n",
    "    lia = CorrectionLIA(img, azimuthEdge)\n",
    "    lia = lia.getLIA()\n",
    "    \n",
    "    # WARNING: INPUT VALUES MUST BE IN linear scale!!!! BAND0: VV BAND1:VH\n",
    "    img = img.addBands(lia.rename('LIA')) # Computes Local Incidence Angle (LIA) band\n",
    "    lia = img.select('LIA')\n",
    "    vv_gamma0 = img.select(0).divide(lia.multiply(math.pi/180.0).cos())\n",
    "    vh_gamma0 = img.select(1).divide(lia.multiply(math.pi/180.0).cos())\n",
    "\n",
    "    return img.addBands(vv_gamma0.rename('VVg0')) \\\n",
    "        .addBands(vh_gamma0.rename('VHg0')) \\\n",
    "        .addBands(lia.rename('LIA'))\n",
    "\n",
    "\n",
    "\n",
    "def computeLogisticThreshold(mask, output_scale, lim_min, lim_max):\n",
    "  # Logistic distribution parameters extracted from PRODES distance to previous year analysis\n",
    "  mu = 2.40633  \n",
    "  s = 0.29973\n",
    "  max_pdf = 1 / (4*s)\n",
    "  \n",
    "  dist = mask.fastDistanceTransform().sqrt().multiply(output_scale)\n",
    "  \n",
    "  threshold = getLogisticDistPdf(dist.log10(), mu, s)\\\n",
    "          .where(dist.log10().lt(mu),max_pdf)\\\n",
    "          .multiply((lim_min-lim_max)/max_pdf).add(lim_max)\\\n",
    "          .unmask(lim_min,False)   \n",
    "  \n",
    "  return threshold\n",
    "\n",
    "def getLogisticDistPdf(x,mu,s):\n",
    "  x= ee.Image(x) \n",
    "  mu = ee.Image(mu) \n",
    "  s = ee.Image(s)\n",
    "  normx = x.subtract(mu).divide(s.multiply(2))\n",
    "  return normx.cosh().pow(-2).multiply(s.multiply(4).pow(-1))\n",
    "\n"
   ]
  },
  {
   "cell_type": "markdown",
   "metadata": {},
   "source": [
    "## PreProcessing"
   ]
  },
  {
   "cell_type": "code",
   "execution_count": 6,
   "metadata": {},
   "outputs": [],
   "source": [
    "masks = Masks()\n",
    "\n",
    "# apply masks onto collection and reescale numbers\n",
    "collectionS1_ = ee.ImageCollection(\n",
    "    collectionS1.sort('system:time_start') \n",
    "    .map(masks.getAngleMask)\n",
    "    .map(masks.getMaskBorders)\n",
    "    .map(toGamma0natural)\n",
    ").select([\"VHg0\", \"VVg0\", \"LIA\"])\n",
    "\n",
    "\n",
    "\n",
    "\n",
    "# apply filters\n",
    "# 1. Quegan&Yu (2001) Filter\n",
    "queganYuFilter = QueganYuFilter(collectionS1_, kernel_size=5)\n",
    "collectionS1F = queganYuFilter.apply()\n",
    "\n",
    "# 2. Lee Filter \n",
    "collectionS1F_ = collectionS1F.select(TARGET_BAND).map(LeeFilterRefined.apply)\n",
    "\n",
    "\n",
    "colS1F2 = collectionS1F_.combine(collectionS1_.select(\"LIA\"))\n",
    "\n",
    "colS1F2 = colS1F2.map(lambda img: img\n",
    "        .updateMask(img.select(\"LIA\").gt(28))\n",
    "        .updateMask(img.select(\"LIA\").lt(50))) \\\n",
    "        .select(0)\n",
    "\n",
    "colS1F2 = ee.ImageCollection(colS1F2)\n",
    "\n"
   ]
  },
  {
   "cell_type": "markdown",
   "metadata": {},
   "source": [
    "## Detection Method"
   ]
  },
  {
   "cell_type": "code",
   "execution_count": 7,
   "metadata": {},
   "outputs": [],
   "source": [
    "\n",
    "learnCol = collectionS1F_.select(0).filterDate(LEARNING_DATE_START['t0'], LEARNING_DATE_START['t1'])\n",
    "\n",
    "detectionCol = colS1F2.select(0).map(toDB).filterDate(DETECTION_PERIOD['t0'], DETECTION_PERIOD['t1'])\n",
    "\n"
   ]
  },
  {
   "cell_type": "markdown",
   "metadata": {},
   "source": [
    "## Display images"
   ]
  },
  {
   "cell_type": "code",
   "execution_count": 8,
   "metadata": {},
   "outputs": [
    {
     "data": {
      "application/vnd.jupyter.widget-view+json": {
       "model_id": "bf9820ca1da24a2d941b20a21895edb0",
       "version_major": 2,
       "version_minor": 0
      },
      "text/plain": [
       "Map(center=[20, 0], controls=(WidgetControl(options=['position', 'transparent_bg'], widget=HBox(children=(Togg…"
      ]
     },
     "metadata": {},
     "output_type": "display_data"
    }
   ],
   "source": [
    "# vis params\n",
    "vis = {\n",
    "    'min':-20,\n",
    "    'max':20,\n",
    "    'palette': ['red', 'gray', 'white', 'black']\n",
    "}\n",
    "\n",
    "Map.addLayer(detectionCol, vis)\n",
    "\n",
    "Map.addLayer(alertsDETER)\n",
    "\n",
    "Map.setOptions('SATELLITE')\n",
    "\n",
    "Map"
   ]
  }
 ],
 "metadata": {
  "kernelspec": {
   "display_name": "base",
   "language": "python",
   "name": "python3"
  },
  "language_info": {
   "codemirror_mode": {
    "name": "ipython",
    "version": 3
   },
   "file_extension": ".py",
   "mimetype": "text/x-python",
   "name": "python",
   "nbconvert_exporter": "python",
   "pygments_lexer": "ipython3",
   "version": "3.9.16"
  },
  "orig_nbformat": 4
 },
 "nbformat": 4,
 "nbformat_minor": 2
}
